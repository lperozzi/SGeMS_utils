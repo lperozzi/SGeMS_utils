{
 "cells": [
  {
   "cell_type": "code",
   "execution_count": 29,
   "metadata": {},
   "outputs": [
    {
     "data": {
      "application/vnd.jupyter.widget-view+json": {
       "model_id": "7e1b453d56444f28905e8e7de2fdf61b"
      }
     },
     "metadata": {},
     "output_type": "display_data"
    },
    {
     "data": {
      "application/vnd.jupyter.widget-view+json": {
       "model_id": "d3cf3c67f7254895b77d1b28820a973f"
      }
     },
     "metadata": {},
     "output_type": "display_data"
    },
    {
     "data": {
      "application/vnd.jupyter.widget-view+json": {
       "model_id": "ff83f58bc2574ed5a1d2767f9364bb39"
      }
     },
     "metadata": {},
     "output_type": "display_data"
    }
   ],
   "source": [
    "import numpy as np\n",
    "import os\n",
    "import pandas as pd\n",
    "cwd = os.getcwd()\n",
    "from ipywidgets import Button, IntText, Text, HBox, VBox\n",
    "from IPython.display import display\n",
    "\n",
    "button = Button(description=\"Compute the grid\")\n",
    "filename = Text(description='Output name')\n",
    "\n",
    "def sgems_grid_coord(b):\n",
    "    x = np.linspace(items[4].value, items[4].value+items[0].value*items[2].value, items[0].value)\n",
    "    y = np.linspace(items[5].value, items[5].value+items[1].value*items[3].value, items[1].value)    \n",
    "    xx, yy = np.meshgrid(x, y)\n",
    "    xxx = np.ravel(xx)\n",
    "    yyy = np.ravel(yy)\n",
    "    df = pd.DataFrame({'x':xxx, 'y':yyy})\n",
    "    df.to_csv(cwd + '/' + filename.value + '.csv', index=False)\n",
    "    return(df)\n",
    "#     print(\"Button clicked.\")\n",
    "\n",
    "button.on_click(sgems_grid_coord)\n",
    "words = ['# cells in X', '# cells in Y', 'step in X (m)', 'step in Y (m)', 'lower left X coord', 'lower left Y coord']\n",
    "items = [IntText(description=w) for w in words]\n",
    "left_box = VBox([items[0], items[1]])\n",
    "middle_box = VBox([items[2], items[3]])\n",
    "right_box = VBox([items[4], items[5]])\n",
    "variables = HBox([left_box, middle_box, right_box])\n",
    "display(variables)\n",
    "display(filename)\n",
    "display(button)\n"
   ]
  }
 ],
 "metadata": {
  "anaconda-cloud": {},
  "kernelspec": {
   "display_name": "Python [Root]",
   "language": "python",
   "name": "Python [Root]"
  },
  "language_info": {
   "codemirror_mode": {
    "name": "ipython",
    "version": 3
   },
   "file_extension": ".py",
   "mimetype": "text/x-python",
   "name": "python",
   "nbconvert_exporter": "python",
   "pygments_lexer": "ipython3",
   "version": "3.5.2"
  }
 },
 "nbformat": 4,
 "nbformat_minor": 2
}
